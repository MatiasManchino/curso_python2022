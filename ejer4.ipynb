{
  "cells": [
    {
      "cell_type": "markdown",
      "metadata": {
        "id": "zrt6VNqdGGvZ"
      },
      "source": [
        "<a href=\"https://colab.research.google.com/github/institutohumai/cursos-python/blob/master/Introduccion/4_Intro_Poo/ejercicio/ejercicio.ipynb\"> <img src='https://colab.research.google.com/assets/colab-badge.svg' /> </a>\n",
        "<div align=\"center\"> Recordá abrir en una nueva pestaña </div>"
      ]
    },
    {
      "cell_type": "markdown",
      "metadata": {
        "id": "e1yumVASGGvi"
      },
      "source": [
        "## Programación orientada a objetos\n",
        "\n",
        "En este ejercicio vamos a programar un carrito de compras.\n",
        "\n",
        "Para esto vamos a escribir dos clases: Carrito e Item.\n",
        "\n",
        "El ítem va a tener como propiedades un nombre, un precio y una url de la imágen que lo representa. Por default, la url se inicializa en blanco.\n",
        "\n",
        "El Carrito tiene como propiedad una lista de diccionarios, la variable _lineas. \n",
        "\n",
        "Los carritos se inicializan vacíos y luego se agregan líneas utilizando el método agregar_línea(). Cada línea es un diccionario con dos claves: \"ítem\" que contiene un objeto de tipo ítem y \"cantidad\" según la cantidad que queremos agregar al carrito.\n",
        "\n",
        "Por último los carritos tienen un método get_total() que devuelve la suma de los precios de los ítems, multiplicados por las cantidades que hay en cada línea."
      ]
    },
    {
      "cell_type": "code",
      "execution_count": 1,
      "metadata": {
        "id": "ouIWuCCfGGvl"
      },
      "outputs": [],
      "source": [
        "# Clase Item\n",
        "class Item:\n",
        "    def __init__ (self, nombre, precio):\n",
        "      self.nombre: nombre\n",
        "      self.precio: precio\n",
        "      self.url: None\n"
      ]
    },
    {
      "cell_type": "code",
      "execution_count": null,
      "metadata": {
        "id": "74ckpyNLGGvn"
      },
      "outputs": [],
      "source": [
        "# Crear los ítems banana de $49.5 y yoghurt de $32.5\n",
        "\n"
      ]
    },
    {
      "cell_type": "code",
      "execution_count": 46,
      "metadata": {
        "id": "M_hmF3sAGGvo"
      },
      "outputs": [],
      "source": [
        "# Crear la clase Carrito\n",
        "class Carrito:\n",
        "\n",
        "    def __init__ (self):\n",
        "        self.variable_lineas = []\n",
        "\n",
        "    def agregar_linea (self, item):\n",
        "        self.variable_lineas.append(item)\n"
      ]
    },
    {
      "cell_type": "markdown",
      "metadata": {
        "id": "Vrsg9jRnGGvp"
      },
      "source": [
        "Ahora vamos a instanciar el carrito y agregarle una \"línea\" con dos bananas y otra con tres yoghures."
      ]
    },
    {
      "cell_type": "code",
      "execution_count": 47,
      "metadata": {
        "id": "anPI6Y3EGGvr",
        "outputId": "118ac6b8-509c-4a71-c2c6-eaf54e7775cb",
        "colab": {
          "base_uri": "https://localhost:8080/"
        }
      },
      "outputs": [
        {
          "output_type": "stream",
          "name": "stdout",
          "text": [
            "[{'banana': 10}, {'arroz': 1}, {'fideos': 123}]\n"
          ]
        }
      ],
      "source": [
        "# Instancias el carrito\n",
        "item = Item()\n",
        "carro = Carrito()\n",
        "carro.agregar_linea({'banana':10})\n",
        "carro.agregar_linea({'arroz':1})\n",
        "carro.agregar_linea({'fideos':123})\n",
        "print(carro.variable_lineas)\n"
      ]
    },
    {
      "cell_type": "code",
      "execution_count": null,
      "metadata": {
        "id": "Oo_5O7MdGGvt"
      },
      "outputs": [],
      "source": [
        "# Agregar bananas\n"
      ]
    },
    {
      "cell_type": "code",
      "execution_count": null,
      "metadata": {
        "id": "ZcN3aPyDGGvu"
      },
      "outputs": [],
      "source": [
        "# Agregar yoghures\n"
      ]
    },
    {
      "cell_type": "code",
      "execution_count": null,
      "metadata": {
        "id": "I4m5oR_SGGvx"
      },
      "outputs": [],
      "source": [
        "# Obtener el total\n"
      ]
    },
    {
      "cell_type": "code",
      "execution_count": null,
      "metadata": {
        "id": "640wsrVjGGvz"
      },
      "outputs": [],
      "source": [
        ""
      ]
    }
  ],
  "metadata": {
    "kernelspec": {
      "display_name": "conda_python3",
      "language": "python",
      "name": "conda_python3"
    },
    "language_info": {
      "codemirror_mode": {
        "name": "ipython",
        "version": 3
      },
      "file_extension": ".py",
      "mimetype": "text/x-python",
      "name": "python",
      "nbconvert_exporter": "python",
      "pygments_lexer": "ipython3",
      "version": "3.6.10"
    },
    "colab": {
      "name": "ejercicio.ipynb",
      "provenance": []
    }
  },
  "nbformat": 4,
  "nbformat_minor": 0
}