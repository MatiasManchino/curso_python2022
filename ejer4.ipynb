{
  "cells": [
    {
      "cell_type": "markdown",
      "metadata": {
        "id": "zrt6VNqdGGvZ"
      },
      "source": [
        "<a href=\"https://colab.research.google.com/github/institutohumai/cursos-python/blob/master/Introduccion/4_Intro_Poo/ejercicio/ejercicio.ipynb\"> <img src='https://colab.research.google.com/assets/colab-badge.svg' /> </a>\n",
        "<div align=\"center\"> Recordá abrir en una nueva pestaña </div>"
      ]
    },
    {
      "cell_type": "markdown",
      "metadata": {
        "id": "e1yumVASGGvi"
      },
      "source": [
        "## Programación orientada a objetos\n",
        "\n",
        "En este ejercicio vamos a programar un carrito de compras.\n",
        "\n",
        "Para esto vamos a escribir dos clases: Carrito e Item.\n",
        "\n",
        "El ítem va a tener como propiedades un nombre, un precio y una url de la imágen que lo representa. Por default, la url se inicializa en blanco.\n",
        "\n",
        "El Carrito tiene como propiedad una lista de diccionarios, la variable _lineas. \n",
        "\n",
        "Los carritos se inicializan vacíos y luego se agregan líneas utilizando el método agregar_línea(). Cada línea es un diccionario con dos claves: \"ítem\" que contiene un objeto de tipo ítem y \"cantidad\" según la cantidad que queremos agregar al carrito.\n",
        "\n",
        "Por último los carritos tienen un método get_total() que devuelve la suma de los precios de los ítems, multiplicados por las cantidades que hay en cada línea."
      ]
    },
    {
      "cell_type": "code",
      "execution_count": 84,
      "metadata": {
        "id": "ouIWuCCfGGvl"
      },
      "outputs": [],
      "source": [
        "# Clase Item\n",
        "class Item:\n",
        "\n",
        "    def __init__(self, nombre, precio):\n",
        "        self.nombre = nombre\n",
        "        self.precio = precio\n",
        "        self.url: None\n",
        "\n",
        "    def enviar(self):\n",
        "        \n",
        "\n",
        "    def info (self):\n",
        "        print('El producto es:', self.nombre, 'sale: $', self.precio)"
      ]
    },
    {
      "cell_type": "code",
      "execution_count": 86,
      "metadata": {
        "id": "74ckpyNLGGvn"
      },
      "outputs": [],
      "source": [
        "# Crear los ítems banana de $49.5 y yoghurt de $32.5\n",
        "banana = Item('banana', 49.5)\n",
        "yogur = Item('yogur',32.5)\n"
      ]
    },
    {
      "cell_type": "code",
      "source": [
        "banana.info()\n",
        "yogur.info()"
      ],
      "metadata": {
        "id": "AN5SFWNGxwiE",
        "outputId": "176a5bbc-671e-4832-c0bf-c70900453f2e",
        "colab": {
          "base_uri": "https://localhost:8080/"
        }
      },
      "execution_count": 88,
      "outputs": [
        {
          "output_type": "stream",
          "name": "stdout",
          "text": [
            "El producto es: banana sale: $ 49.5\n",
            "El producto es: yogur sale: $ 32.5\n"
          ]
        }
      ]
    },
    {
      "cell_type": "code",
      "execution_count": 92,
      "metadata": {
        "id": "M_hmF3sAGGvo"
      },
      "outputs": [],
      "source": [
        "# Crear la clase Carrito\n",
        "class Carrito:\n",
        "\n",
        "    def __init__ (self):\n",
        "        self.variable_lineas = []\n",
        "\n",
        "    def agregar_linea (self, item, cant):\n",
        "        self.variable_lineas.append(item)\n",
        "        self.variable_lineas.append(cant)\n"
      ]
    },
    {
      "cell_type": "markdown",
      "metadata": {
        "id": "Vrsg9jRnGGvp"
      },
      "source": [
        "Ahora vamos a instanciar el carrito y agregarle una \"línea\" con dos bananas y otra con tres yoghures."
      ]
    },
    {
      "cell_type": "code",
      "execution_count": 93,
      "metadata": {
        "colab": {
          "base_uri": "https://localhost:8080/"
        },
        "id": "anPI6Y3EGGvr",
        "outputId": "c2adc388-f5a0-4b6b-95e2-6b9c9794f9ca"
      },
      "outputs": [
        {
          "output_type": "stream",
          "name": "stdout",
          "text": [
            "[{'banana': 49.5}, 5]\n"
          ]
        }
      ],
      "source": [
        "# Instancias el carrito\n",
        "\n",
        "carro = Carrito()\n",
        "carro.agregar_linea({banana.nombre:banana.precio}, 5)\n",
        "\n",
        "print(carro.variable_lineas)\n"
      ]
    },
    {
      "cell_type": "code",
      "execution_count": null,
      "metadata": {
        "id": "Oo_5O7MdGGvt"
      },
      "outputs": [],
      "source": [
        "# Agregar bananas\n"
      ]
    },
    {
      "cell_type": "code",
      "execution_count": null,
      "metadata": {
        "id": "ZcN3aPyDGGvu"
      },
      "outputs": [],
      "source": [
        "# Agregar yoghures\n"
      ]
    },
    {
      "cell_type": "code",
      "execution_count": null,
      "metadata": {
        "id": "I4m5oR_SGGvx"
      },
      "outputs": [],
      "source": [
        "# Obtener el total\n"
      ]
    },
    {
      "cell_type": "code",
      "execution_count": null,
      "metadata": {
        "id": "640wsrVjGGvz"
      },
      "outputs": [],
      "source": [
        ""
      ]
    }
  ],
  "metadata": {
    "kernelspec": {
      "display_name": "conda_python3",
      "language": "python",
      "name": "conda_python3"
    },
    "language_info": {
      "codemirror_mode": {
        "name": "ipython",
        "version": 3
      },
      "file_extension": ".py",
      "mimetype": "text/x-python",
      "name": "python",
      "nbconvert_exporter": "python",
      "pygments_lexer": "ipython3",
      "version": "3.6.10"
    },
    "colab": {
      "name": "ejercicio.ipynb",
      "provenance": []
    }
  },
  "nbformat": 4,
  "nbformat_minor": 0
}