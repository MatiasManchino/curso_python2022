{
  "cells": [
    {
      "cell_type": "markdown",
      "metadata": {
        "id": "zrt6VNqdGGvZ"
      },
      "source": [
        "<a href=\"https://colab.research.google.com/github/institutohumai/cursos-python/blob/master/Introduccion/4_Intro_Poo/ejercicio/ejercicio.ipynb\"> <img src='https://colab.research.google.com/assets/colab-badge.svg' /> </a>\n",
        "<div align=\"center\"> Recordá abrir en una nueva pestaña </div>"
      ]
    },
    {
      "cell_type": "markdown",
      "metadata": {
        "id": "e1yumVASGGvi"
      },
      "source": [
        "## Programación orientada a objetos\n",
        "\n",
        "En este ejercicio vamos a programar un carrito de compras.\n",
        "\n",
        "Para esto vamos a escribir dos clases: Carrito e Item.\n",
        "\n",
        "El ítem va a tener como propiedades un nombre, un precio y una url de la imágen que lo representa. Por default, la url se inicializa en blanco.\n",
        "\n",
        "El Carrito tiene como propiedad una lista de diccionarios, la variable _lineas. \n",
        "\n",
        "Los carritos se inicializan vacíos y luego se agregan líneas utilizando el método agregar_línea(). Cada línea es un diccionario con dos claves: \"ítem\" que contiene un objeto de tipo ítem y \"cantidad\" según la cantidad que queremos agregar al carrito.\n",
        "\n",
        "Por último los carritos tienen un método get_total() que devuelve la suma de los precios de los ítems, multiplicados por las cantidades que hay en cada línea."
      ]
    },
    {
      "cell_type": "code",
      "execution_count": 116,
      "metadata": {
        "id": "ouIWuCCfGGvl"
      },
      "outputs": [],
      "source": [
        "# Clase Item\n",
        "class Item:\n",
        "\n",
        "    def __init__(self, nombre, precio, url = None):\n",
        "        self.nombre = nombre\n",
        "        self.precio = precio\n",
        "        self.url: url\n",
        "\n",
        "    def enviar (self):\n",
        "        return self.nombre, self.precio\n",
        "\n",
        "    def info (self):\n",
        "        print('El producto es:', self.nombre, 'sale: $', self.precio)"
      ]
    },
    {
      "cell_type": "code",
      "execution_count": 117,
      "metadata": {
        "id": "74ckpyNLGGvn"
      },
      "outputs": [],
      "source": [
        "# Crear los ítems banana de $49.5 y yoghurt de $32.5\n",
        "item1 = Item('banana', 49.5)\n",
        "item2 = Item('yogur', 32.5)\n"
      ]
    },
    {
      "cell_type": "code",
      "source": [
        "item1.info()\n",
        "item2.info()"
      ],
      "metadata": {
        "colab": {
          "base_uri": "https://localhost:8080/"
        },
        "id": "AN5SFWNGxwiE",
        "outputId": "719e2288-359f-4935-8592-9a9c6734e334"
      },
      "execution_count": 118,
      "outputs": [
        {
          "output_type": "stream",
          "name": "stdout",
          "text": [
            "El producto es: banana sale: $ 49.5\n",
            "El producto es: yogur sale: $ 32.5\n"
          ]
        }
      ]
    },
    {
      "cell_type": "code",
      "execution_count": 119,
      "metadata": {
        "id": "M_hmF3sAGGvo"
      },
      "outputs": [],
      "source": [
        "# Crear la clase Carrito\n",
        "class Carrito:\n",
        "\n",
        "    def __init__ (self):\n",
        "        self.variable_lineas = []\n",
        "\n",
        "    def agregar_linea (self, item, cant):\n",
        "        dicc = {item.nombre:int(cant)}\n",
        "        self.variable_lineas.append(dicc)\n",
        "\n",
        "    def get_total(self, *args): #paso mas de un producto\n",
        "        total = 0 \n",
        "        j= 0 #inicializo el indice con el cual voy a pasar de producto en prod\n",
        "             #de la lista cargada en agregar_linea \n",
        "        for i in args:\n",
        "            nom, prec = i #descargo el nombre y el precio en dos variables del\n",
        "                            #producto que ingresa\n",
        "            total = total + float(self.variable_lineas[j][nom]) * prec\n",
        "            #sumo la multiplicacion al total\n",
        "            j=+1 #paso el indice para pasar al proximo producto cargado\n",
        "        return total\n"
      ]
    },
    {
      "cell_type": "markdown",
      "metadata": {
        "id": "Vrsg9jRnGGvp"
      },
      "source": [
        "Ahora vamos a instanciar el carrito y agregarle una \"línea\" con dos bananas y otra con tres yoghures."
      ]
    },
    {
      "cell_type": "code",
      "execution_count": 120,
      "metadata": {
        "id": "anPI6Y3EGGvr"
      },
      "outputs": [],
      "source": [
        "# Instancias el carrito\n",
        "carro = Carrito()"
      ]
    },
    {
      "cell_type": "code",
      "execution_count": 121,
      "metadata": {
        "id": "Oo_5O7MdGGvt"
      },
      "outputs": [],
      "source": [
        "# Agregar bananas\n",
        "carro.agregar_linea(item1, 2)"
      ]
    },
    {
      "cell_type": "code",
      "execution_count": 122,
      "metadata": {
        "id": "ZcN3aPyDGGvu"
      },
      "outputs": [],
      "source": [
        "# Agregar yoghures\n",
        "carro.agregar_linea(item2, 3)"
      ]
    },
    {
      "cell_type": "code",
      "execution_count": 123,
      "metadata": {
        "colab": {
          "base_uri": "https://localhost:8080/"
        },
        "id": "I4m5oR_SGGvx",
        "outputId": "2c5c2dd7-e698-42d1-cc6f-ef89cdd5206e"
      },
      "outputs": [
        {
          "output_type": "stream",
          "name": "stdout",
          "text": [
            "[{'banana': 2}, {'yogur': 3}]\n"
          ]
        }
      ],
      "source": [
        "# Obtener el total\n",
        "print(carro.variable_lineas)"
      ]
    },
    {
      "cell_type": "code",
      "execution_count": 124,
      "metadata": {
        "colab": {
          "base_uri": "https://localhost:8080/"
        },
        "id": "640wsrVjGGvz",
        "outputId": "a656dcab-0819-4d46-8f7a-43eb8f46cc5f"
      },
      "outputs": [
        {
          "output_type": "execute_result",
          "data": {
            "text/plain": [
              "196.5"
            ]
          },
          "metadata": {},
          "execution_count": 124
        }
      ],
      "source": [
        "carro.get_total(item1.enviar(),item2.enviar())"
      ]
    }
  ],
  "metadata": {
    "kernelspec": {
      "display_name": "conda_python3",
      "language": "python",
      "name": "conda_python3"
    },
    "language_info": {
      "codemirror_mode": {
        "name": "ipython",
        "version": 3
      },
      "file_extension": ".py",
      "mimetype": "text/x-python",
      "name": "python",
      "nbconvert_exporter": "python",
      "pygments_lexer": "ipython3",
      "version": "3.6.10"
    },
    "colab": {
      "name": "ejercicio.ipynb",
      "provenance": []
    }
  },
  "nbformat": 4,
  "nbformat_minor": 0
}