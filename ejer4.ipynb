{
  "cells": [
    {
      "cell_type": "markdown",
      "metadata": {
        "id": "ecu6QRQP0_UE"
      },
      "source": [
        "<a href=\"https://colab.research.google.com/github/institutohumai/cursos-python/blob/master/Introduccion/4_Intro_Poo/ejercicio/ejercicio.ipynb\"> <img src='https://colab.research.google.com/assets/colab-badge.svg' /> </a>\n",
        "<div align=\"center\"> Recordá abrir en una nueva pestaña </div>"
      ]
    },
    {
      "cell_type": "markdown",
      "metadata": {
        "id": "aXe_ZqLJ0_UM"
      },
      "source": [
        "## Programación orientada a objetos\n",
        "\n",
        "En este ejercicio vamos a programar un carrito de compras.\n",
        "\n",
        "Para esto vamos a escribir dos clases: Carrito e Item.\n",
        "\n",
        "El ítem va a tener como propiedades un nombre, un precio y una url de la imágen que lo representa. Por default, la url se inicializa en blanco.\n",
        "\n",
        "El Carrito tiene como propiedad una lista de diccionarios, la variable _lineas. \n",
        "\n",
        "Los carritos se inicializan vacíos y luego se agregan líneas utilizando el método agregar_línea(). Cada línea es un diccionario con dos claves: \"ítem\" que contiene un objeto de tipo ítem y \"cantidad\" según la cantidad que queremos agregar al carrito.\n",
        "\n",
        "Por último los carritos tienen un método get_total() que devuelve la suma de los precios de los ítems, multiplicados por las cantidades que hay en cada línea."
      ]
    },
    {
      "cell_type": "code",
      "execution_count": 2,
      "metadata": {
        "id": "ktzAxOrk0_UO"
      },
      "outputs": [],
      "source": [
        "# Clase Item\n",
        "class Item:\n",
        "    def __init__ (self, nombre, precio):\n",
        "      self.nombre: nombre\n",
        "      self.precio: precio\n",
        "      self.url: None\n",
        "\n"
      ]
    },
    {
      "cell_type": "code",
      "execution_count": null,
      "metadata": {
        "id": "0v8F0cwl0_UQ"
      },
      "outputs": [],
      "source": [
        "# Crear los ítems banana de $49.5 y yoghurt de $32.5\n",
        "\n"
      ]
    },
    {
      "cell_type": "code",
      "execution_count": null,
      "metadata": {
        "id": "PGTgmpAX0_UQ"
      },
      "outputs": [],
      "source": [
        "from IPython.core.display import DisplayObject\n",
        "# Crear la clase Carrito\n",
        "class Carrito:\n",
        "      def __init__(self):\n",
        "         self.variable_lineas: [dict(,)]\n",
        "\n",
        "      def agregarlinea(self, item, cantidad):\n",
        "         self.variable_lineas.appned(item,cantidad)\n",
        "      def get_total(self):"
      ]
    },
    {
      "cell_type": "markdown",
      "metadata": {
        "id": "fCUc2czh0_UR"
      },
      "source": [
        "Ahora vamos a instanciar el carrito y agregarle una \"línea\" con dos bananas y otra con tres yoghures."
      ]
    },
    {
      "cell_type": "code",
      "execution_count": null,
      "metadata": {
        "id": "9jDVxBsn0_UT"
      },
      "outputs": [],
      "source": [
        "# Instancias el carrito\n"
      ]
    },
    {
      "cell_type": "code",
      "execution_count": null,
      "metadata": {
        "id": "24GUUc_y0_UU"
      },
      "outputs": [],
      "source": [
        "# Agregar bananas\n"
      ]
    },
    {
      "cell_type": "code",
      "execution_count": null,
      "metadata": {
        "id": "PMeQlMNq0_UV"
      },
      "outputs": [],
      "source": [
        "# Agregar yoghures\n"
      ]
    },
    {
      "cell_type": "code",
      "execution_count": null,
      "metadata": {
        "id": "0IvFATIt0_UW"
      },
      "outputs": [],
      "source": [
        "# Obtener el total\n"
      ]
    },
    {
      "cell_type": "code",
      "execution_count": null,
      "metadata": {
        "id": "mSLqSGf80_UZ"
      },
      "outputs": [],
      "source": [
        ""
      ]
    }
  ],
  "metadata": {
    "kernelspec": {
      "display_name": "conda_python3",
      "language": "python",
      "name": "conda_python3"
    },
    "language_info": {
      "codemirror_mode": {
        "name": "ipython",
        "version": 3
      },
      "file_extension": ".py",
      "mimetype": "text/x-python",
      "name": "python",
      "nbconvert_exporter": "python",
      "pygments_lexer": "ipython3",
      "version": "3.6.10"
    },
    "colab": {
      "name": "ejercicio.ipynb",
      "provenance": []
    }
  },
  "nbformat": 4,
  "nbformat_minor": 0
}