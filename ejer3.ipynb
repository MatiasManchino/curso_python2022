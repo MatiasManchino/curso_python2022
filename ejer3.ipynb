{
  "cells": [
    {
      "cell_type": "markdown",
      "metadata": {
        "id": "fvl-nQJzz-HE"
      },
      "source": [
        "<a href=\"https://colab.research.google.com/github/MatiasManchino/curso_python2022/blob/main/eje3.ipynb\"> <img src='https://colab.research.google.com/assets/colab-badge.svg' /> </a>\n",
        "<div align=\"center\"> Recordá abrir en una nueva pestaña </div>"
      ]
    },
    {
      "cell_type": "markdown",
      "metadata": {
        "id": "-Vza8fScz-HM"
      },
      "source": [
        "## Factoriales\n",
        "\n",
        "El factorial de un número natural es la multiplicación de todos los números anteriores hasta llegar a 1. Por ejemplo el factorial de 5 es igual a $5* 4* 3* 2* 1$, es decir, 120.\n",
        "\n",
        "Igual que con la serie Fibonacci, hay dos formas de resolver este problema: una con un loop for y la otra utilizando funciones recursivas.  Recuerden que cada función recursiva tiene que tener una condición terminal.\n",
        "En el caso de Fibonacci, la condición terminal es que fibo(1) = 1. \n",
        "\n",
        "En el caso de factorial, la condición terminal será factorial(1) = 1 \n",
        "\n",
        "Escriban ahora las dos versiones posibles de la función factorial(x). "
      ]
    },
    {
      "cell_type": "code",
      "source": [
        "# Solución recursiva. \n",
        "def fibonacci(entr,resultado):\n",
        "  if entr > 0:\n",
        "    resultado = resultado * entr\n",
        "    entr = entr-1\n",
        "    fibonacci(entr,resultado)\n",
        "    if (entr == 0):\n",
        "      print(resultado)\n"
      ],
      "metadata": {
        "id": "cyHk5SFx70vi"
      },
      "execution_count": 68,
      "outputs": []
    },
    {
      "cell_type": "code",
      "execution_count": null,
      "metadata": {
        "id": "vUxYWa_Uz-HR"
      },
      "outputs": [],
      "source": [
        "entr = input()\n",
        "fibonacci(int(entr),1)\n",
        " # if entr.isalnum() != True and entr != 0:\n",
        " # elif entr.isalnum() != True:\n",
        " #   return 'Error! escriba un numero por favor'"
      ]
    },
    {
      "cell_type": "code",
      "execution_count": null,
      "metadata": {
        "id": "Ga3yafdcz-HT"
      },
      "outputs": [],
      "source": [
        "# Solución iterativa. \n",
        "entrada = input()\n",
        "resultado = 1\n",
        "\n",
        "for i in range(int(entrada)):\n",
        "  if (i != 0):\n",
        "    resultado = resultado * (i+1)\n",
        "    print(i, resultado)\n",
        "print(resultado)"
      ]
    },
    {
      "cell_type": "markdown",
      "metadata": {
        "id": "dZo8pxiTz-HU"
      },
      "source": [
        "Ahora construyan un módulo que se llame \"operaciones\" con cualquiera de las dos versiones de la función y luego invoquen a la función factorial del módulo."
      ]
    },
    {
      "cell_type": "code",
      "execution_count": 4,
      "metadata": {
        "id": "lck4PfQDz-HV"
      },
      "outputs": [],
      "source": [
        "# Escriban el archivo operaciones.py\n",
        "with open('operaciones.py', 'w') as out:\n",
        "  out.write(\"\"\"def fibonacci(entr,resultado):\n",
        "  if entr > 0:\n",
        "    resultado = resultado * entr\n",
        "    entr = entr-1\n",
        "    fibonacci(entr,resultado)\n",
        "    if (entr == 0):\n",
        "      print(resultado)\n",
        "\"\"\")"
      ]
    },
    {
      "cell_type": "code",
      "execution_count": 5,
      "metadata": {
        "id": "4PXuz9Riz-HV"
      },
      "outputs": [],
      "source": [
        "# Importen operaciones\n",
        "from operaciones import fibonacci"
      ]
    },
    {
      "cell_type": "code",
      "execution_count": 6,
      "metadata": {
        "colab": {
          "base_uri": "https://localhost:8080/",
          "height": 190
        },
        "id": "r7erBJa3z-HY",
        "outputId": "9e6cee55-83ed-4cc4-82e8-ce2dedec815a"
      },
      "outputs": [
        {
          "output_type": "error",
          "ename": "NameError",
          "evalue": "ignored",
          "traceback": [
            "\u001b[0;31m---------------------------------------------------------------------------\u001b[0m",
            "\u001b[0;31mNameError\u001b[0m                                 Traceback (most recent call last)",
            "\u001b[0;32m<ipython-input-6-935bc60d4443>\u001b[0m in \u001b[0;36m<module>\u001b[0;34m()\u001b[0m\n\u001b[1;32m      1\u001b[0m \u001b[0;31m# Invoquen con cualquier valor a operaciones.factorial()\u001b[0m\u001b[0;34m\u001b[0m\u001b[0;34m\u001b[0m\u001b[0;34m\u001b[0m\u001b[0m\n\u001b[0;32m----> 2\u001b[0;31m \u001b[0moperaciones\u001b[0m\u001b[0;34m.\u001b[0m\u001b[0mfibonacci\u001b[0m\u001b[0;34m(\u001b[0m\u001b[0;36m9\u001b[0m\u001b[0;34m,\u001b[0m\u001b[0;36m1\u001b[0m\u001b[0;34m)\u001b[0m\u001b[0;34m\u001b[0m\u001b[0;34m\u001b[0m\u001b[0m\n\u001b[0m",
            "\u001b[0;31mNameError\u001b[0m: name 'operaciones' is not defined"
          ]
        }
      ],
      "source": [
        "# Invoquen con cualquier valor a operaciones.factorial()\n",
        "operaciones.fibonacci(9,1)"
      ]
    },
    {
      "cell_type": "code",
      "execution_count": null,
      "metadata": {
        "id": "Z0DTM5R-z-HZ"
      },
      "outputs": [],
      "source": [
        ""
      ]
    }
  ],
  "metadata": {
    "kernelspec": {
      "display_name": "conda_python3",
      "language": "python",
      "name": "conda_python3"
    },
    "language_info": {
      "codemirror_mode": {
        "name": "ipython",
        "version": 3
      },
      "file_extension": ".py",
      "mimetype": "text/x-python",
      "name": "python",
      "nbconvert_exporter": "python",
      "pygments_lexer": "ipython3",
      "version": "3.6.10"
    },
    "colab": {
      "name": "ejercicio.ipynb",
      "provenance": []
    }
  },
  "nbformat": 4,
  "nbformat_minor": 0
}
