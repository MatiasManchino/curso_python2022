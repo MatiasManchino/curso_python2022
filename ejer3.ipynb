{
  "cells": [
    {
      "cell_type": "markdown",
      "metadata": {
        "id": "fvl-nQJzz-HE"
      },
      "source": [
        "<a href=\"https://colab.research.google.com/github/institutohumai/cursos-python/blob/master/Introduccion/3_Modulos_Funciones/ejercicio/ejercicio.ipynb\"> <img src='https://colab.research.google.com/assets/colab-badge.svg' /> </a>\n",
        "<div align=\"center\"> Recordá abrir en una nueva pestaña </div>"
      ]
    },
    {
      "cell_type": "markdown",
      "metadata": {
        "id": "-Vza8fScz-HM"
      },
      "source": [
        "## Factoriales\n",
        "\n",
        "El factorial de un número natural es la multiplicación de todos los números anteriores hasta llegar a 1. Por ejemplo el factorial de 5 es igual a $5* 4* 3* 2* 1$, es decir, 120.\n",
        "\n",
        "Igual que con la serie Fibonacci, hay dos formas de resolver este problema: una con un loop for y la otra utilizando funciones recursivas.  Recuerden que cada función recursiva tiene que tener una condición terminal.\n",
        "En el caso de Fibonacci, la condición terminal es que fibo(1) = 1. \n",
        "\n",
        "En el caso de factorial, la condición terminal será factorial(1) = 1 \n",
        "\n",
        "Escriban ahora las dos versiones posibles de la función factorial(x). "
      ]
    },
    {
      "cell_type": "code",
      "source": [
        "# Solución recursiva. \n",
        "def fibonacci(entr,resultado):\n",
        "  if entr > 0:\n",
        "    resultado = resultado * entr\n",
        "    entr = entr-1\n",
        "    fibonacci(entr,resultado)\n",
        "    if (entr == 0):\n",
        "      print(resultado)\n"
      ],
      "metadata": {
        "id": "cyHk5SFx70vi"
      },
      "execution_count": 68,
      "outputs": []
    },
    {
      "cell_type": "code",
      "execution_count": 69,
      "metadata": {
        "id": "vUxYWa_Uz-HR",
        "outputId": "7f826af9-81e5-4290-d428-52b205763227",
        "colab": {
          "base_uri": "https://localhost:8080/"
        }
      },
      "outputs": [
        {
          "output_type": "stream",
          "name": "stdout",
          "text": [
            "9\n",
            "362880\n"
          ]
        }
      ],
      "source": [
        "entr = input()\n",
        "fibonacci(int(entr),1)\n",
        " # if entr.isalnum() != True and entr != 0:\n",
        " # elif entr.isalnum() != True:\n",
        " #   return 'Error! escriba un numero por favor'"
      ]
    },
    {
      "cell_type": "code",
      "execution_count": 11,
      "metadata": {
        "id": "Ga3yafdcz-HT",
        "outputId": "40ec076b-2be2-404c-8157-0c4dfd76d89c",
        "colab": {
          "base_uri": "https://localhost:8080/"
        }
      },
      "outputs": [
        {
          "output_type": "stream",
          "name": "stdout",
          "text": [
            "9\n",
            "1 2\n",
            "2 6\n",
            "3 24\n",
            "4 120\n",
            "5 720\n",
            "6 5040\n",
            "7 40320\n",
            "8 362880\n",
            "362880\n"
          ]
        }
      ],
      "source": [
        "# Solución iterativa. \n",
        "entrada = input()\n",
        "resultado = 1\n",
        "\n",
        "for i in range(int(entrada)):\n",
        "  if (i != 0):\n",
        "    resultado = resultado * (i+1)\n",
        "    print(i, resultado)\n",
        "print(resultado)"
      ]
    },
    {
      "cell_type": "markdown",
      "metadata": {
        "id": "dZo8pxiTz-HU"
      },
      "source": [
        "Ahora construyan un módulo que se llame \"operaciones\" con cualquiera de las dos versiones de la función y luego invoquen a la función factorial del módulo."
      ]
    },
    {
      "cell_type": "code",
      "execution_count": null,
      "metadata": {
        "id": "lck4PfQDz-HV"
      },
      "outputs": [],
      "source": [
        "# Escriban el archivo operaciones.py\n"
      ]
    },
    {
      "cell_type": "code",
      "execution_count": null,
      "metadata": {
        "id": "4PXuz9Riz-HV"
      },
      "outputs": [],
      "source": [
        "# Importen operaciones\n"
      ]
    },
    {
      "cell_type": "code",
      "execution_count": null,
      "metadata": {
        "id": "r7erBJa3z-HY"
      },
      "outputs": [],
      "source": [
        "# Invoquen con cualquier valor a operaciones.factorial()\n"
      ]
    },
    {
      "cell_type": "code",
      "execution_count": null,
      "metadata": {
        "id": "Z0DTM5R-z-HZ"
      },
      "outputs": [],
      "source": [
        ""
      ]
    }
  ],
  "metadata": {
    "kernelspec": {
      "display_name": "conda_python3",
      "language": "python",
      "name": "conda_python3"
    },
    "language_info": {
      "codemirror_mode": {
        "name": "ipython",
        "version": 3
      },
      "file_extension": ".py",
      "mimetype": "text/x-python",
      "name": "python",
      "nbconvert_exporter": "python",
      "pygments_lexer": "ipython3",
      "version": "3.6.10"
    },
    "colab": {
      "name": "ejercicio.ipynb",
      "provenance": []
    }
  },
  "nbformat": 4,
  "nbformat_minor": 0
}