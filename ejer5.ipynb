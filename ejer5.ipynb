{
  "nbformat": 4,
  "nbformat_minor": 0,
  "metadata": {
    "colab": {
      "name": "ejer5.ipynb",
      "private_outputs": true,
      "provenance": [],
      "authorship_tag": "ABX9TyN/7PSfD/roxTPubRlYSgVO",
      "include_colab_link": true
    },
    "kernelspec": {
      "name": "python3",
      "display_name": "Python 3"
    },
    "language_info": {
      "name": "python"
    }
  },
  "cells": [
    {
      "cell_type": "markdown",
      "metadata": {
        "id": "view-in-github",
        "colab_type": "text"
      },
      "source": [
        "<a href=\"https://colab.research.google.com/github/MatiasManchino/curso_python2022/blob/main/ejer5.ipynb\" target=\"_parent\"><img src=\"https://colab.research.google.com/assets/colab-badge.svg\" alt=\"Open In Colab\"/></a>"
      ]
    },
    {
      "cell_type": "markdown",
      "source": [
        "#### <a href=\"https://colab.research.google.com/github/MatiasManchino/curso_python2022/blob/main/ejer5.ipynb\"> <img src='https://www.cursosgis.com/wp-content/uploads/1-17.png' width=\"50\" height=\"50\" /> </a>\n",
        "#### <div><a href='https://byte-mind.net/curso-python-poo/#Ejercicio-1'>Solucion! (Numero 6)</a>  </div>\n",
        "**Ejercicio 1**\n",
        "\n",
        "En un banco tienen clientes que pueden hacer depósitos y extracciones de dinero. El banco requiere también al final del día calcular la cantidad de dinero que se ha depositado.\n",
        "\n",
        "Se deberán crear dos clases, la clase cliente y la clase banco. La clase cliente tendrá los atributos nombre y cantidad y los métodos __init__, depositar, extraer, mostrar_total.\n",
        "\n",
        "La clase banco tendrá como atributos 3 objetos de la clase cliente y los métodos __init__, operar y deposito_total."
      ],
      "metadata": {
        "id": "bNl6uqy2HE_L"
      }
    },
    {
      "cell_type": "code",
      "execution_count": null,
      "metadata": {
        "id": "_TlRcSaiHCn3"
      },
      "outputs": [],
      "source": [
        "class Banco:\n",
        "\n",
        "    def __init__(self, cliente):\n",
        "        self.cliente = cliente\n",
        "        self.tesoro = 10_000_000\n",
        "\n",
        "    def operar(self, tipo: bool, cant, monto, cliente):\n",
        "        self.comienzoDia = cant\n",
        "        if bool == True: #es un deposito\n",
        "            cant = cant + monto\n",
        "        elif monto < self.tesoro: #es una extraccion\n",
        "            cant = cant - monto\n",
        "        else:\n",
        "            print('No es posible realizar la operación porque el banco no tiene ',\n",
        "                    'fondos suficientes')\n",
        "    \n",
        "    def deposito_total(self):\n",
        "        balance =self.comienzoDia - self.tesoro\n",
        "        return balance\n",
        "\n",
        "class Cliente(Banco):\n",
        "\n",
        "    def __init__(self, nombre, cantidad):\n",
        "        self.nombre = nombre #identificador \n",
        "        self.cantidad = cantidad #monto que tiene en total\n",
        "\n",
        "    def depositar(self, monto):\n",
        "        tipo = True\n",
        "        self.operar(tipo,self.cantidad,monto,self.nombre)\n",
        "\n",
        "    def extraer(self, monto):\n",
        "        tipo = False\n",
        "        self.operar(tipo,self.cantidad,monto,self.nombre)\n",
        "\n",
        "    def mostrar_total(self):\n",
        "        print(f'La cuenta de {self.nombre} le queda un total de {self.cantidad}')\n"
      ]
    },
    {
      "cell_type": "markdown",
      "source": [
        "# Ejercicio 2 (invento)\n",
        "\n",
        "Crea una **clase que se llame Individuo()** el cual tenga como atributo: Nombre, Tipo(Humano, Mounstro, Guardían), Poder(varia entre 20-100), Defensa(20-100) Vida(0-100), Posicion(1-256). Esta clase transmite herencia a las clases, Humano, Mounstro, Guardían.\n",
        "\n",
        "---\n",
        "\n",
        "La **clase Humano**, tiene también como atributo Armas(agrega poder y defensa), a parte de las que hereda.\n",
        "\n",
        "La **clase Mounstro** tiene también un atributo que se llama Especie(agrega poder y defensa) y Tamaño (agrega poder y defensa).\n",
        "\n",
        "La **clase Guardían** tiene el atributo de Poder_Especial(agrega poder) y TiempoResurgir (es immortal pero tarda en revivir).\n",
        "\n",
        "---\n",
        "\n",
        "Los **metodos** en comun (o sea de la clase Individuo) es Atacar(se resuelve con cuentas), Huir(dismuye la defensa y la vida), Luchar(se resuelve con cuentas) o Avanzar(cambio la posicion, siempre nueve de a 1 o de a 2 casilleros).\n",
        "\n",
        "---\n",
        "\n",
        "**H**, Metodos: Agacharse(le da defensa) \n",
        "\n",
        "**M**, Metodos: GolpearFuerte(le da poder)\n",
        "\n",
        "\n",
        "**G**, Metodos: ControlarTiempo (pasa el turno)\n",
        "\n",
        "---\n",
        "\n",
        "\n",
        "En las batallas los se resuelven con las variables: Vida, Poder, Defensa, Suerte (este factor puede jugar a favor o en contra del individuo(1-7), 1-3 favorece al atacante, en el 4-7 favorece al defensor con un 20% de ganancia)"
      ],
      "metadata": {
        "id": "WMMiefqSMV2z"
      }
    },
    {
      "cell_type": "code",
      "source": [
        ""
      ],
      "metadata": {
        "id": "dAqy_8q9NFaH"
      },
      "execution_count": null,
      "outputs": []
    }
  ]
}