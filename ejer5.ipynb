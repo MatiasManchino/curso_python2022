{
  "nbformat": 4,
  "nbformat_minor": 0,
  "metadata": {
    "colab": {
      "name": "ejer5.ipynb",
      "private_outputs": true,
      "provenance": [],
      "authorship_tag": "ABX9TyPvbdzwmxaZZ5QvtkVFkgVD",
      "include_colab_link": true
    },
    "kernelspec": {
      "name": "python3",
      "display_name": "Python 3"
    },
    "language_info": {
      "name": "python"
    }
  },
  "cells": [
    {
      "cell_type": "markdown",
      "metadata": {
        "id": "view-in-github",
        "colab_type": "text"
      },
      "source": [
        "<a href=\"https://colab.research.google.com/github/MatiasManchino/curso_python2022/blob/main/ejer5.ipynb\" target=\"_parent\"><img src=\"https://colab.research.google.com/assets/colab-badge.svg\" alt=\"Open In Colab\"/></a>"
      ]
    },
    {
      "cell_type": "markdown",
      "source": [
        "#### <a href=\"https://colab.research.google.com/github/MatiasManchino/curso_python2022/blob/main/ejer5.ipynb\"> <img src='https://www.cursosgis.com/wp-content/uploads/1-17.png' width=\"50\" height=\"50\" /> </a>\n",
        "#### <div><a href='https://byte-mind.net/curso-python-poo/#Ejercicio-1'>Solucion! (Numero 6)</a>  </div>\n",
        "**Ejercicio 1**\n",
        "\n",
        "En un banco tienen clientes que pueden hacer depósitos y extracciones de dinero. El banco requiere también al final del día calcular la cantidad de dinero que se ha depositado.\n",
        "\n",
        "Se deberán crear dos clases, la clase cliente y la clase banco. La clase cliente tendrá los atributos nombre y cantidad y los métodos __init__, depositar, extraer, mostrar_total.\n",
        "\n",
        "La clase banco tendrá como atributos 3 objetos de la clase cliente y los métodos __init__, operar y deposito_total."
      ],
      "metadata": {
        "id": "bNl6uqy2HE_L"
      }
    },
    {
      "cell_type": "code",
      "execution_count": null,
      "metadata": {
        "id": "_TlRcSaiHCn3"
      },
      "outputs": [],
      "source": [
        "class Banco:\n",
        "\n",
        "    def __init__(self):\n",
        "        self.cliente = ['Juan', 'Gabriel', 'Pablo']\n",
        "        self.cant = 0\n",
        "        self.comienzoDia = self.cant\n",
        "\n",
        "    def operar(self, tipo: bool, cant, monto, identificador):\n",
        "\n",
        "        if identificador in self.cliente:\n",
        "\n",
        "            if tipo == True: #es un deposito\n",
        "                cant = cant + monto\n",
        "            elif monto < cant: #es una extraccion\n",
        "                cant = cant - monto\n",
        "            else:\n",
        "                print('''No es posible realizar la operación porque el banco no \n",
        "                        tiene , fondos suficientes''')                    \n",
        "            self.cant = cant\n",
        "\n",
        "        else:\n",
        "            print('No existe un cliente con ese nombre')\n",
        "\n",
        "    def deposito_total(self, dineroQueda):\n",
        "        #self.comienzoDia = self.cant\n",
        "        balance =self.comienzoDia - dineroQueda\n",
        "        return balance\n",
        "\n",
        "class Cliente(Banco):\n",
        "\n",
        "    def __init__(self, id):\n",
        "        super().__init__()\n",
        "        self.id = id #identificador \n",
        "\n",
        "    def depositar(self, monto):\n",
        "        tipo = True\n",
        "        self.operar(tipo,self.cant,monto, self.id)\n",
        "\n",
        "    def extraer(self, monto):\n",
        "        tipo = False\n",
        "        self.operar(tipo,self.cant,monto, self.id)\n",
        "\n",
        "    def mostrar_total(self):\n",
        "        print(f'La cuenta de {self.id} le queda un total de {self.cant}')\n",
        "#REVISARRRR deposito_total"
      ]
    },
    {
      "cell_type": "code",
      "source": [
        "SantanderRio = Banco()\n",
        "juan = Cliente('Pablo')\n",
        "\n",
        "juan.depositar(200)\n",
        "juan.depositar(2000)\n",
        "juan.extraer(23)\n",
        "juan.mostrar_total()\n",
        "print(juan.comienzoDia)\n",
        "SantanderRio.deposito_total(juan.cant)"
      ],
      "metadata": {
        "id": "j-Ze4FW86cgD"
      },
      "execution_count": null,
      "outputs": []
    },
    {
      "cell_type": "code",
      "source": [
        "juan.depositar(200)\n",
        "juan.depositar(2000)\n",
        "juan.extraer(23)\n",
        "juan.mostrar_total()\n",
        "print(juan.comienzoDia)\n",
        "SantanderRio.deposito_total(juan.cant)"
      ],
      "metadata": {
        "id": "72_9D7HKQ4FV"
      },
      "execution_count": null,
      "outputs": []
    },
    {
      "cell_type": "markdown",
      "source": [
        "Pregunta 1\n",
        "Escribir un programa en Python que imprima una X construida a base de la letra X y utilizar el carácter de subrayado como espacio. El tamaño de la x se basa en una variable n que indicará el tamaño de la letra para imprimir (en una matriz de n x n). Por ejemplo, para n = 5 se obtiene:\n",
        "\n",
        "X___X\n",
        "_X_X_\n",
        "__X__\n",
        "_X_X_\n",
        "X___X\n",
        "\n",
        "y para n=6 se obtiene:\n",
        "\n",
        "X____X\n",
        "_X__X_\n",
        "__XX__\n",
        "__XX__\n",
        "_X__X_\n",
        "X____X\n",
        "\n",
        "Si n es igual a cero imprimir \"ERROR\"\n",
        "\n",
        "El código para el tamaño de n ya está ahí, puede editarlo para probar con otros valores y puede hacer clic en el botón de actualización junto a él para volver al valor original que se utiliza para validar su código durante la prueba. Tenga en cuenta que el código debe imprimir los resultados exactamente como se muestra con el fin de que la pregunta sea considerada válida durante la prueba (El carácter \"X\" en mayúscula y el guion bajo \"_\" para los espacios)"
      ],
      "metadata": {
        "id": "psBRaJiERrk3"
      }
    },
    {
      "cell_type": "code",
      "source": [
        ""
      ],
      "metadata": {
        "id": "h1NUL5-wRrWH"
      },
      "execution_count": null,
      "outputs": []
    },
    {
      "cell_type": "markdown",
      "source": [
        "# Ejercicio 2 (invento)\n",
        "\n",
        "Crea una **clase que se llame Individuo()** el cual tenga como atributo: Nombre, Tipo(Humano, Mounstro, Guardían), Poder(varia entre 20-100), Defensa(20-100) Vida(0-100), Posicion(1-256). Esta clase transmite herencia a las clases, Humano, Mounstro, Guardían.\n",
        "\n",
        "---\n",
        "\n",
        "La **clase Humano**, tiene también como atributo Armas(agrega poder y defensa), a parte de las que hereda.\n",
        "\n",
        "La **clase Mounstro** tiene también un atributo que se llama Especie(agrega poder y defensa) y Tamaño (agrega poder y defensa).\n",
        "\n",
        "La **clase Guardían** tiene el atributo de Poder_Especial(agrega poder) y TiempoResurgir (es immortal pero tarda en revivir).\n",
        "\n",
        "---\n",
        "\n",
        "Los **metodos** en comun (o sea de la clase Individuo) es Atacar(se resuelve con cuentas), Huir(dismuye la defensa y la vida), Luchar(se resuelve con cuentas) o Avanzar(cambio la posicion, siempre nueve de a 1 o de a 2 casilleros).\n",
        "\n",
        "---\n",
        "\n",
        "**H**, Metodos: Agacharse(le da defensa) \n",
        "\n",
        "**M**, Metodos: GolpearFuerte(le da poder)\n",
        "\n",
        "\n",
        "**G**, Metodos: ControlarTiempo (pasa el turno)\n",
        "\n",
        "---\n",
        "\n",
        "\n",
        "En las batallas los se resuelven con las variables: Vida, Poder, Defensa, Suerte (este factor puede jugar a favor o en contra del individuo(1-7), 1-3 favorece al atacante, en el 4-7 favorece al defensor con un 20% de ganancia)"
      ],
      "metadata": {
        "id": "WMMiefqSMV2z"
      }
    },
    {
      "cell_type": "code",
      "source": [
        ""
      ],
      "metadata": {
        "id": "dAqy_8q9NFaH"
      },
      "execution_count": null,
      "outputs": []
    },
    {
      "cell_type": "markdown",
      "source": [
        "Pregunta 2\n",
        "Tienes un arreglo (llamado myArray) con 5 elementos (enteros en el rango de 1 a 100). Escribe un programa en Python que imprima el número más alto del arreglo (Si se repite, solo imprimir una vez). El programa solo debe imprimir el número, sin ningún texto.\n",
        "\n",
        "El código que llena el arreglo ya está escrito, pero puedes editarlo para probar con otros valores. Con el botón de refrescar puedes recuperar el valor original que será utilizado para evaluar la pregunta como correcta o incorrecta durante la ejecución."
      ],
      "metadata": {
        "id": "wMFsXdsTRt7F"
      }
    },
    {
      "cell_type": "markdown",
      "source": [
        "Pregunta 3\n",
        "Escribir un programa en Python que puede determinar si una matriz es simétrica. Una matriz es simétrica si se ve igual si está invertida. Por ejemplo ('a', 'b', 'c', 'd', 'd', 'c', 'b', 'a') es simétrica y ('a', 'b', 'c', 'd', 'd', 'b', 'c', 'a') no lo es. Suponga que n será siempre un número par entre 2 y 10 (No hay necesidad de validar esto). Si es simétrico su programa debe imprimir 'Symmetric', de lo contrario imprimir 'Asymmetric'\n",
        "\n",
        "La salida de los datos para el arreglo en el ejemplo ('a', 'b', 'c', 'd', 'd', 'c', 'b', 'a') sería:\n",
        "Symmetric\n",
        "\n",
        "El código para declarar y poblar myArray ya está ahí, puede editarlo para probar con otros valores y puede hacer clic en el botón de actualizar junto a él para volver al valor original que se utilizará para validar su código durante la prueba."
      ],
      "metadata": {
        "id": "Bd61xVI4R2RM"
      }
    },
    {
      "cell_type": "code",
      "source": [
        "myArray = ['a', 'b', 'c', 'd', 'd', 'c', 'b', 'a']\n",
        "\n",
        "\n",
        "def simetrica(myArray):\n",
        "\tboo = False\n",
        "\ti = 0\n",
        "\tj = len(myArray)-1\n",
        "\twhile i < j:\n",
        "\n",
        "\t\tif (myArray[i] == myArray[j]):\n",
        "\t\t\tboo = True\n",
        "\t\telse:\n",
        "\t\t\tboo = False\n",
        "\t\ti = i + 1\n",
        "\t\tj = j - 1\n",
        "\n",
        "\tif boo == True:\n",
        "\t\treturn 'Symmetric'\n",
        "\telse:\n",
        "\t\treturn 'Asymmetric'\n",
        "simetrica(myArray)"
      ],
      "metadata": {
        "id": "Wbjwj201OgSz"
      },
      "execution_count": null,
      "outputs": []
    },
    {
      "cell_type": "markdown",
      "source": [
        "Pregunta 4\n",
        "Tienes un arreglo (llamado myArray) con 10 elementos (enteros en el rango de 1 a 9). Escribe un programa en Python que imprima el número que tiene más ocurrencias seguidas en el arreglo y también imprimir la cantidad de veces que aparece en la secuencia.\n",
        "\n",
        "El código que llena el arreglo ya está escrito, pero puedes editarlo para probar con otros valores. Con el botón de refrescar puedes recuperar el valor original que será utilizado para evaluar la pregunta como correcta o incorrecta durante la ejecución.\n",
        "\n",
        "Su programa debe analizar el arreglo de izquierda a derecha para que en caso de que dos números cumplan la condición, el que aparece por primera vez de izquierda a derecha será el que se imprima. La salida de los datos para el arreglo en el ejemplo (1,2,2,5,4,6,7,8,8,8) sería la siguiente:\n",
        "Longest: 3\n",
        "Number: 8\n",
        "\n",
        "En el ejemplo, la secuencia más larga la tiene el número 8 con una secuencia de tres ochos seguidos. Tenga en cuenta que el código que escriba debe imprimir los resultados exactamente como se muestra con el fin de que la pregunta sea considerada válida.\n",
        "\n",
        "El código para declarar y poblar myArray ya está ahí, puede editarlo para probar con otros valores y puede hacer clic en el botón de actualizar junto a él para volver al valor original que se utilizará para validar su código durante la prueba."
      ],
      "metadata": {
        "id": "lg_C0xV_R7ju"
      }
    },
    {
      "cell_type": "markdown",
      "source": [
        "Pregunta 5\n",
        "Escribir un programa en Python que recorra un arreglo y genere un histograma en base a los números de este. El arreglo se llama myArray y contiene 10 elementos que corresponden a números enteros del 1 al 5. Un histograma representa que tanto un elemento aparece en un conjunto de datos (Debe mostrar la frecuencia para todos los números del 1 al 5, incluso si no están presentes en el arreglo). Por ejemplo, para el arreglo: myArray:=(1,2,1,3,3,1,2,1,5,1) el histograma se vería así:\n",
        "\n",
        "1: *****\n",
        "2: **\n",
        "3: **\n",
        "4:\n",
        "5: *\n",
        "\n",
        "El código para declarar y poblar myArray ya está ahí, puede editarlo para probar con otros valores y puede hacer clic en el botón de actualizar junto a él para volver al valor original que se utilizará para validar su código durante la prueba. Asegúrese de que los resultados se impriman exactamente como aparecen aquí, ya que incluso un espacio faltante o sobrante puede marcar la pregunta como incorrect (Notar espacio entre los \":\" y el primer asterisco)."
      ],
      "metadata": {
        "id": "LLuSmB6PSANl"
      }
    }
  ]
}