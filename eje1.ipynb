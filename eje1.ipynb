{
  "cells": [
    {
      "cell_type": "markdown",
      "metadata": {
        "id": "view-in-github",
        "colab_type": "text"
      },
      "source": [
        "<a href=\"https://colab.research.google.com/github/MatiasManchino/curso_python2022/blob/main/eje1.ipynb\" target=\"_parent\"><img src=\"https://colab.research.google.com/assets/colab-badge.svg\" alt=\"Open In Colab\"/></a>"
      ]
    },
    {
      "cell_type": "markdown",
      "source": [
        "# A- De la clase\n",
        "\n",
        "a1- Definir su nombre de pila en un string y si el largo tiene igual o mas de 5 letras, dar la primera letra."
      ],
      "metadata": {
        "id": "pvLUCNFC8XFA"
      }
    },
    {
      "cell_type": "code",
      "source": [
        "nombre = input('dime tu nombre: ')\n",
        "if len(nombre) >= 5:\n",
        "  print(nombre[0])\n",
        "else:\n",
        "  print(nombre[-1])"
      ],
      "metadata": {
        "id": "BJKiCOPb9DqJ"
      },
      "execution_count": null,
      "outputs": []
    },
    {
      "cell_type": "markdown",
      "source": [
        "a2 - Calcular el promedio de edad de la lista \"edades\""
      ],
      "metadata": {
        "id": "6jsRf2_H-A2T"
      }
    },
    {
      "cell_type": "code",
      "source": [
        "lista = [22,45,36,75,35,76]\n",
        "print(sum(lista)/len(lista))"
      ],
      "metadata": {
        "id": "pR8Bo9lc-PaL"
      },
      "execution_count": null,
      "outputs": []
    },
    {
      "cell_type": "markdown",
      "metadata": {
        "id": "nNcptoI2aep-"
      },
      "source": [
        "# 1- Cambiar un texto\n",
        "\n",
        "Necesitamos mostrar en nuestra web la sinopsis de las películas. El problema es que tenemos los textos separados por pipes (\"|\") en lugar de saltos de línea. "
      ]
    },
    {
      "cell_type": "code",
      "execution_count": null,
      "metadata": {
        "id": "A8muONH2aep_"
      },
      "outputs": [],
      "source": [
        "string = 'Sinopsis | Marty McFly, un típico adolescente americano de los años ochenta, '\\\n",
        "'es accidentalmente enviado de vuelta a 1955 en una \"máquina del tiempo\" realizada con'\\\n",
        "'un DeLorean inventada por un científico un poco loco. | En este viaje, Marty debe '\\\n",
        "'asegurarse de que sus padres se encuentren y se enamoren, para que pueda volver a su tiempo. '"
      ]
    },
    {
      "cell_type": "code",
      "execution_count": null,
      "metadata": {
        "id": "57MvG5YKaeqB"
      },
      "outputs": [],
      "source": [
        "print(string)"
      ]
    },
    {
      "cell_type": "markdown",
      "metadata": {
        "id": "Z0MxLBT0aeqC"
      },
      "source": [
        "¿Cómo podríamos hacer para que la función \"print\" muestre saltos de línea en lugar de pipes?"
      ]
    },
    {
      "cell_type": "code",
      "execution_count": null,
      "metadata": {
        "id": "tvtLNlitaeqD"
      },
      "outputs": [],
      "source": [
        "print(string.replace('|', '\\n'))"
      ]
    },
    {
      "cell_type": "markdown",
      "metadata": {
        "id": "xqlEC1CVaeqF"
      },
      "source": [
        "# 2 - Crear un acrónimo\n",
        "\n",
        "Ahora nos piden crear un acrónimo (una palabra compuesta por la primera letra de cada palabra) de cada título. Pero antes de eso es necesario que transformemos los títulos a \"title case\" porque no todos van a llegar prolijos. Entonces, el acrónimo de \"Volver al futuro\" debería ser \"VAF\". \n"
      ]
    },
    {
      "cell_type": "code",
      "execution_count": null,
      "metadata": {
        "id": "tQDOvLiuaeqJ"
      },
      "outputs": [],
      "source": [
        "titulos = 'Volver al futuro', 'Terminator', 'jurassic park', 'Mr Nobody'\n",
        "print(titulos)\n",
        "print(\"\\n\")\n",
        "acronimos = []\n",
        "for j in range(len(titulos)):\n",
        "  t1 = titulos[j].split()\n",
        "  acronimo = ''\n",
        "  for i in range(len(t1)):\n",
        "    acronimo = acronimo + t1[i][0].upper()\n",
        "  acronimos.append(acronimo)\n",
        "  print(acronimo)\n",
        "print(\"\\n\")\n",
        "print(acronimos)"
      ]
    },
    {
      "cell_type": "markdown",
      "source": [
        "# 3- Ejer adicional - Pares e impares\n",
        "\n",
        "Escribir un código que pida al usuario ingresar diez números y los almacene en una lista si es par, o en otra si es impar. Los datos ingresados pueden ser sólo números enteros, si el usuario ingresa otra cosa recibe como output \"(el dato ingresado) no es un número."
      ],
      "metadata": {
        "id": "BNfQSwtIl0hw"
      }
    },
    {
      "cell_type": "code",
      "source": [
        "print(\"Ingrese 10 numeros enteros...\")\n",
        "pares = []\n",
        "impares = []\n",
        "numerales = ['1er', '2do', '3ro', '4to', '5to', '6to', '7mo', '8vo', '9no', '10mo']\n",
        "for i in range(len(numerales)):\n",
        "  num = input('Ingrese el ' + numerales[i] + ' numero entero: ')\n",
        "  while num.isnumeric() != True:\n",
        "    print('Lo que escribió no es un numero entero')\n",
        "    num = input('Ingrese el ' + numerales[i] + ' numero entero: ')\n",
        "    \n",
        "  if int(num) % 2 == 0:\n",
        "    pares.append(int(num))\n",
        "    #print(\"Se agrego a la lista de pares\")\n",
        "  else:\n",
        "    impares.append(int(num))\n",
        "    #print(\"Se agrego a la lista de impares\")\n",
        "  \n",
        "print('\\nLista de pares: ', pares, '\\nLista de impares: ', impares)\n"
      ],
      "metadata": {
        "id": "zBwfOCSxuTb5"
      },
      "execution_count": null,
      "outputs": []
    },
    {
      "cell_type": "code",
      "source": [
        "#No es lo que se pidio!!!\n",
        "num = input(\"Ingrese un numero,\\npara salir del programa ingrese\\nalgo que no sea un numero:\\n\")\n",
        "boole = num.isnumeric()\n",
        "pares = []\n",
        "impares = []\n",
        "while boole:\n",
        "  if int(num) % 2 == 0:\n",
        "    pares.append(int(num))\n",
        "    #print(\"Se agrego a la lista de pares\")\n",
        "  else:\n",
        "    impares.append(int(num))\n",
        "    #print(\"Se agrego a la lista de impares\")\n",
        "  print(\"\\nRecuerde que para salir del programa ingrese algo que no sea un numero\\n\")\n",
        "  num = input(\"Ingrese otro numero:\\n\")\n",
        "  boole = num.isnumeric()\n",
        "\n",
        "print('\\nLista de pares: ', pares, '\\nLista de impares: ', impares)"
      ],
      "metadata": {
        "id": "0JNXm8KXlz64"
      },
      "execution_count": null,
      "outputs": []
    }
  ],
  "metadata": {
    "kernelspec": {
      "display_name": "Python 3",
      "name": "python3"
    },
    "language_info": {
      "name": "python"
    },
    "colab": {
      "name": "eje1.ipynb",
      "provenance": [],
      "collapsed_sections": [],
      "include_colab_link": true
    }
  },
  "nbformat": 4,
  "nbformat_minor": 0
}
