{
  "nbformat": 4,
  "nbformat_minor": 0,
  "metadata": {
    "colab": {
      "name": "eje2.ipynb",
      "private_outputs": true,
      "provenance": [],
      "collapsed_sections": [],
      "authorship_tag": "ABX9TyNzKfXAydunMfZR1JGt4NBC",
      "include_colab_link": true
    },
    "kernelspec": {
      "name": "python3",
      "display_name": "Python 3"
    },
    "language_info": {
      "name": "python"
    }
  },
  "cells": [
    {
      "cell_type": "markdown",
      "metadata": {
        "id": "view-in-github",
        "colab_type": "text"
      },
      "source": [
        "<a href=\"https://colab.research.google.com/github/MatiasManchino/curso_python2022/blob/main/eje2.ipynb\" target=\"_parent\"><img src=\"https://colab.research.google.com/assets/colab-badge.svg\" alt=\"Open In Colab\"/></a>"
      ]
    },
    {
      "cell_type": "markdown",
      "source": [
        "Ejercicios combinando lo visto hasta el momento:\n",
        "\n",
        "1- Imprimir los valores de 1 a 50, salteando de a un valor por vez...\n",
        "\n",
        "2- Dada la siguiente lista: medios = [\"cheques\", \"bonos\", \"acciones\", 1000, \"transferencia\"]. Acceder al 2do elemento, y luego al 3er elemento (de ese 2do elemento) y responder qué devulve.\n",
        "\n",
        "3- De manera similar, ahora accedan al 4to elemento, y luego al 3er elemento de éste, ¿qué ocurre?\n",
        "\n",
        "4- Agreguen una lista vacía al final de esa lista.\n",
        "\n",
        "5- Recorran *medios* (iteren) y si el tipo del elemento es string, hagan un print de su primer elemento, si es int (entero) pásenlo a string y hagan un print de su primer elemento y si no es nada de eso hagan un print que diga \"Es otro tipo\". Tip1: para pasar un elemento a tipo string pueden usar la función str(variable), donde variable es el elemento que quieren transformar. Tip2: para arrancar este ejercicio pueden copiar lo siguiente:\n"
      ],
      "metadata": {
        "id": "IrR1vM3JXTFX"
      }
    },
    {
      "cell_type": "code",
      "source": [
        "#1\n",
        "rango = range(0, 51, 2)\n",
        "\n",
        "for num in rango:\n",
        "    print(num)"
      ],
      "metadata": {
        "id": "zaIkJwDwsgBF"
      },
      "execution_count": null,
      "outputs": []
    },
    {
      "cell_type": "code",
      "source": [
        "#2,3,4\n",
        "medios = [\"cheques\", \"bonos\", \"acciones\", 1000, \"transferencia\", 1.22, True]\n",
        "lista_vacia = []\n",
        "print(medios[1][2])\n",
        "#print(lista[3][2])\n",
        "medios.append(lista_vacia)\n",
        "print(medios)"
      ],
      "metadata": {
        "id": "Upq7t7rCvzNY"
      },
      "execution_count": null,
      "outputs": []
    },
    {
      "cell_type": "code",
      "source": [
        "#5\n",
        "for n in medios:\n",
        "  if type(n) ==str:\n",
        "    print(n)\n",
        "  elif type(n) == int:\n",
        "    print(int(n))\n",
        "  else:\n",
        "    print(\"Es otro tipo\")"
      ],
      "metadata": {
        "id": "4gp0DPZN0pcp"
      },
      "execution_count": null,
      "outputs": []
    },
    {
      "cell_type": "markdown",
      "source": [
        "Dado una lista de numeros enteros vamos a crear dos diccionarios donde vamos guardando por separado los numeros pares e impares. Vamos a imprimir el maximo, el min y el promedio de la lista mas trade. vamos a tener en cuenta el 0 y el 1 en caso que aparezcan en las listas"
      ],
      "metadata": {
        "id": "XYpmWbdhYWHo"
      }
    },
    {
      "cell_type": "code",
      "source": [
        "lista = [1,2,3,4,5,1,6,3,24,342,645,0]\n",
        "numeros = {'pares': [], 'imapres': []}\n",
        "\n",
        "for n in lista:\n",
        "  if n % 2 == 0:\n",
        "    numeros['pares'].append(n)\n",
        "  else:\n",
        "    numeros['imapres'].append(n)\n",
        "print(lista,\"\\n\",numeros)"
      ],
      "metadata": {
        "id": "qefawadzYXeZ"
      },
      "execution_count": null,
      "outputs": []
    },
    {
      "cell_type": "markdown",
      "source": [
        ""
      ],
      "metadata": {
        "id": "8iogy4mnX5PS"
      }
    },
    {
      "cell_type": "markdown",
      "metadata": {
        "id": "iKgk6hFmXgOn"
      },
      "source": [
        "### Ejercicios: \n",
        "\n",
        "1- Escribir una función que reciba una lista con números y devuelva la suma de todos los pares\n",
        "\n",
        "2- Escribir una función que tome una lista con distintos elementos (de cualquier tipo) y devuelva una lista sólo con los últimos tres números que aparecen."
      ]
    },
    {
      "cell_type": "code",
      "source": [
        "#1\n",
        "def sumaPares (lista):\n",
        "  pares = 0\n",
        "  for n in lista:\n",
        "    if n % 2 == 0:\n",
        "      pares = pares + n\n",
        "  return pares\n",
        "print(sumaPares(lista))\n",
        "print(lista[-2])"
      ],
      "metadata": {
        "id": "Ft6DTNGE3PM_"
      },
      "execution_count": null,
      "outputs": []
    },
    {
      "cell_type": "code",
      "source": [
        "def ultimosTres (lista):\n",
        "  ultimos = [lista[-3],lista[-2],lista[-1]]\n",
        "  return ultimos\n",
        "print(*ultimosTres(lista), sep = ' ') #operador * se utiliza para descomprimir objetos"
      ],
      "metadata": {
        "id": "fWvB--un7XIx"
      },
      "execution_count": null,
      "outputs": []
    },
    {
      "cell_type": "markdown",
      "source": [
        "### Juego de espías (Fácil)\n",
        "El espía Ramsay debe codificar los mensajes que le mandan otros espías sobre la cantidad de tropas que tiene el enemigo en distintos cuarteles. Para esto, otro espía le manda una tira de números con un pequeño truco. Esta tira de números estan separados por `-`, pero para que no sea tan fácil saber que esta informando, la cantidad de tropas esta levemente escondida y también esta escondido el número del cuartel. El cuartel estará escondido en el último lugar de la tira y para obtener la cantidad de tropas aproximadas se deben sumar todos los números que son divisibles por el número del cuartel de la tira. Crear una función que reciba el string de la tira de números y devuelva la cantidad de tropas que hay en el cuartel enemigo como una tupla. Adicionalmente, podria imprimir un mensaje con la información requerida.\n",
        "\n",
        "Ej:\n",
        "```Python\n",
        "INPUT:\n",
        "tira_numeros = '29-32-1-5-65-12345-0-12-2'\n",
        "OUTPUT: \n",
        "(2, 44)\n",
        "    \"En el cuartel número 2 hay 44 soldados\"\n",
        "```"
      ],
      "metadata": {
        "id": "7cf3wD1SkXSn"
      }
    },
    {
      "cell_type": "code",
      "source": [
        "lisNum = [\"18-99-25-27-85-1\"]\n",
        "\n",
        "\n",
        "cuartel = lisNum[0].split('-')[-1]\n",
        "def cantTropas (lisNum):\n",
        "  suma = 0\n",
        "  for n in lisNum:\n",
        "    if int(n) % int(lisNum[-1]) == 0 and (int(n) != int(lisNum[-1])):\n",
        "      suma = suma + int(n)\n",
        "  return suma\n",
        "soldados = cantTropas(lisNum[0].split('-'))\n",
        "print(f'En el cuartel número {cuartel} hay {soldados} soldados')"
      ],
      "metadata": {
        "id": "YAvTCa-WksGJ"
      },
      "execution_count": null,
      "outputs": []
    },
    {
      "cell_type": "markdown",
      "source": [
        "***\n",
        "### Codificador César (Intermedio)\n",
        "Una de las formas mas antiguas de crear un código encriptado es lo que se conoce como el encriptado César <https://es.wikipedia.org/wiki/Cifrado_C%C3%A9sar>. En este tipo de encriptado lo que se hace es \"girar\" el abecedario una determinada cantidad de pasos según una clave numérica (ver ejemplo). Crear una función que lea un string dentro de un txt en la misma ruta que esta notebook, tome una clave y devuelva el string encriptado con la clave César en minúsculas(asumir que el texto esta en castellano).\n",
        "\n",
        "Ej: Clave = 2\n",
        "\n",
        "| Letra   | Letra encriptada |\n",
        "| ------------- |:-------------:| \n",
        "| A | C | \n",
        "| B | D |\n",
        "| C | E |\n",
        "| ... | ... |\n",
        "| Y | A |\n",
        "| Z | B |\n",
        "\n",
        "```Python\n",
        "INPUT:\n",
        "'mi_archivo.txt' (\"Hola estudiante\"), clave = 1\n",
        "OUTPUT:\n",
        "\"Jqnc guvwfkcovg\"\n",
        "```\n",
        "\n",
        "*AYUDA*\n",
        "\n",
        "El método `mi_lista.index(elemento)` búsca el `elemento` en la lista `mi_lista` y devuelve la posición del elemento si lo encontró. Si no lo encontró devuelve un `ValueError`."
      ],
      "metadata": {
        "id": "auA6HIOnv-8_"
      }
    },
    {
      "cell_type": "markdown",
      "source": [
        "**OPCIONALES** \n",
        "\n",
        "- Hacer que la función guarde la salida como un archivo de texto.\n",
        "- Podemos encriptar respetando mayúsculas. Adaptar la función para que lo haga. Se puede usar la funcion test2_mayusculas para probarla. Sugerencia: Mirar el método `isupper()` para los strings.\n",
        "- Adaptar la función anterior pero para desencriptar, una función que cree una lista con todas las posibles rotaciones del texto."
      ],
      "metadata": {
        "id": "hzu1pZQuwmqq"
      }
    },
    {
      "cell_type": "code",
      "source": [
        "def codificador_cesar(mensaje_path, clave, tipo):\n",
        "    # Un ayudin\n",
        "    abc = 'abcdefghijklmnñopqrstuvwxyz'\n",
        "    ABC2 = abc.upper()\n",
        "    mjsSalida = ''\n",
        "    menlistado = list(mensaje_path)#.casefold())\n",
        "    # Ahora hagan su magia (ojo con las mayúsculas)\n",
        "    if tipo == True:                                #Si estoy codificando\n",
        "        for i in menlistado:\n",
        "            if i == ' ':\n",
        "                mjsSalida = mjsSalida + ' '\n",
        "            else:\n",
        "                if i.isupper() != True:\n",
        "                    posicion=abc.find(i)\n",
        "                    mjsSalida = mjsSalida + abc[posicion+clave]\n",
        "                else:\n",
        "                    posicion=ABC2.find(i)\n",
        "                    mjsSalida = mjsSalida + ABC2[posicion+clave]\n",
        "\n",
        "    else:                                           #Si estoy decodificando\n",
        "        for i in menlistado:\n",
        "            if i == ' ':\n",
        "                mjsSalida = mjsSalida + ' '\n",
        "            else:\n",
        "                if i.isupper() == True:\n",
        "                    posicion=ABC2.find(i)\n",
        "                    mjsSalida = mjsSalida + ABC2[posicion-clave]\n",
        "                else:\n",
        "                    posicion=abc.find(i)\n",
        "                    mjsSalida = mjsSalida + abc[posicion-clave]\n",
        "    return mjsSalida\n",
        "\n",
        "# Corre para ver si tu código esta bien\n",
        "mensaje='Este mensaje se va decodificar'\n",
        "clave=4\n",
        "operacion=True\n",
        "codificado = codificador_cesar(mensaje, clave, operacion)\n",
        "print(codificado)\n",
        "operacion=False\n",
        "decodifiado = codificador_cesar(codificado, clave, operacion)\n",
        "print(decodifiado)\n",
        "\n",
        "#revisar el Overflow del abecedario para pasar claves mayores a 4"
      ],
      "metadata": {
        "id": "NM0kxQRBwoIA"
      },
      "execution_count": null,
      "outputs": []
    },
    {
      "cell_type": "markdown",
      "source": [
        "***\n",
        "### La calesita (Rompecoco) \n",
        "El señor Jacinto es dueño de una antigua calesita con animalitos que no funciona hace varios años y quiere volver a ponerla en funcionamiento. Para eso va a probarla prendiendola y viendo cuanto rota segun la cantidad de movimientos. \n",
        "\n",
        "Crear una función que reciba una lista de strings (con la primera en mayúscula) con los animales que componen la calesita, una cantidad de ciclos(n_ciclos) y devuelva la misma lista pero rotada hacia la derecha esa cantidad de movimientos, donde un movimiento es cambiar todos los animales una posición hacia la derecha:\n",
        "\n",
        "Ej:\n",
        "``` Python\n",
        "INPUT:\n",
        "['Unicornio','Oso','Jirafa', 'Pato'. 'Elefante'], movimiento = 1\n",
        "OUTPUT:\n",
        "['Elefante', 'Unicornio', 'Oso', 'Jirafa', 'Pato']\n",
        "```\n"
      ],
      "metadata": {
        "id": "mSXSmUGryH02"
      }
    },
    {
      "cell_type": "code",
      "execution_count": null,
      "metadata": {
        "id": "5Jr4iIi_yAPw"
      },
      "outputs": [],
      "source": [
        "def probar_calesita(calesita, n_movimientos):\n",
        "    # Proba la calesita\n",
        "    calesita_girada = calesita\n",
        "\n",
        "    for i in range(n_movimientos):\n",
        " \n",
        "        calesita_girada.insert(0, calesita_girada[-1])\n",
        "    \n",
        "        calesita_girada.pop(-1)\n",
        "\n",
        "    return calesita_girada"
      ]
    },
    {
      "cell_type": "code",
      "execution_count": null,
      "metadata": {
        "id": "Gnzy-c-GyAPw"
      },
      "outputs": [],
      "source": [
        "# Corre para ver si tu código esta bien\n",
        "calesita = ['Unicornio','Oso','Jirafa', 'Pato', 'Elefante']\n",
        "mov = 2\n",
        "\n",
        "print(probar_calesita(calesita, mov))"
      ]
    },
    {
      "cell_type": "markdown",
      "metadata": {
        "id": "ODN1iggzyAPx"
      },
      "source": [
        "Cuando prueba la calesita se da cuenta que es muy lenta. Debe sacar uno de los animales para que pueda funcionar correctamente. Para eso los manda a pesar y le dicen cual es el que hay que sacar para que funcione perfectamente.\n",
        "\n",
        "Modificar la función anterior para que reciba un string, que es un animal en MAYÚSCULAS (animal_quitar) para sacar y pruebe la función nuevamente.\n",
        "\n",
        "Ej:\n",
        "```Python\n",
        "INPUT:\n",
        "['Unicornio','Oso','Jirafa', 'Pato'. 'Elefante'], animal_quitar = 'JIRAFA', movimientos = 1\n",
        "OUTPUT:\n",
        "['Elefante', 'Unicornio', 'Oso', 'Pato']\n",
        "```"
      ]
    },
    {
      "cell_type": "code",
      "execution_count": null,
      "metadata": {
        "id": "29uYfz-8yAPx"
      },
      "outputs": [],
      "source": [
        "def probar_calesita_arreglada(calesita, n_mov, animal_quitar):\n",
        "    # Arregla la calesita\n",
        "    calesita_arreglada = calesita\n",
        "    sacar_animal = animal_quitar.title()\n",
        "    \n",
        "    for i in range(n_mov):\n",
        " \n",
        "        calesita_arreglada.insert(0, calesita_arreglada[-1])\n",
        "    \n",
        "        calesita_arreglada.pop(-1)\n",
        "\n",
        "    calesita_arreglada.pop(calesita_arreglada.index(sacar_animal))\n",
        "    \n",
        "    return calesita_arreglada"
      ]
    },
    {
      "cell_type": "code",
      "execution_count": null,
      "metadata": {
        "id": "1EoB3KdPyAPy"
      },
      "outputs": [],
      "source": [
        "# Corre para ver si tu código esta bien\n",
        "calesita = ['Unicornio','Oso','Jirafa', 'Pato', 'Elefante']\n",
        "mov = 1\n",
        "quitar = 'JIRAFA'\n",
        "\n",
        "probar_calesita_arreglada(calesita,mov,quitar)"
      ]
    }
  ]
}