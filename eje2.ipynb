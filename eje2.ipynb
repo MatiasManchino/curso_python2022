{
  "nbformat": 4,
  "nbformat_minor": 0,
  "metadata": {
    "colab": {
      "name": "eje2.ipynb",
      "private_outputs": true,
      "provenance": [],
      "collapsed_sections": [],
      "authorship_tag": "ABX9TyMJrTbVqZwvK3p/EPZjkk/G",
      "include_colab_link": true
    },
    "kernelspec": {
      "name": "python3",
      "display_name": "Python 3"
    },
    "language_info": {
      "name": "python"
    }
  },
  "cells": [
    {
      "cell_type": "markdown",
      "metadata": {
        "id": "view-in-github",
        "colab_type": "text"
      },
      "source": [
        "<a href=\"https://colab.research.google.com/github/MatiasManchino/curso_python2022/blob/main/eje2.ipynb\" target=\"_parent\"><img src=\"https://colab.research.google.com/assets/colab-badge.svg\" alt=\"Open In Colab\"/></a>"
      ]
    },
    {
      "cell_type": "markdown",
      "source": [
        "Ejercicios combinando lo visto hasta el momento:\n",
        "\n",
        "1- Imprimir los valores de 1 a 50, salteando de a un valor por vez...\n",
        "\n",
        "2- Dada la siguiente lista: medios = [\"cheques\", \"bonos\", \"acciones\", 1000, \"transferencia\"]. Acceder al 2do elemento, y luego al 3er elemento (de ese 2do elemento) y responder qué devulve.\n",
        "\n",
        "3- De manera similar, ahora accedan al 4to elemento, y luego al 3er elemento de éste, ¿qué ocurre?\n",
        "\n",
        "4- Agreguen una lista vacía al final de esa lista.\n",
        "\n",
        "5- Recorran *medios* (iteren) y si el tipo del elemento es string, hagan un print de su primer elemento, si es int (entero) pásenlo a string y hagan un print de su primer elemento y si no es nada de eso hagan un print que diga \"Es otro tipo\". Tip1: para pasar un elemento a tipo string pueden usar la función str(variable), donde variable es el elemento que quieren transformar. Tip2: para arrancar este ejercicio pueden copiar lo siguiente:\n"
      ],
      "metadata": {
        "id": "IrR1vM3JXTFX"
      }
    },
    {
      "cell_type": "code",
      "source": [
        " medio in medios:\n",
        "    pass # pass no hace nada, sólo pasa sin ejecutar nada... Reemplácenlo y completen con las condiciones."
      ],
      "metadata": {
        "id": "RH7AwYFmXRtK"
      },
      "execution_count": null,
      "outputs": []
    },
    {
      "cell_type": "code",
      "source": [
        "#1\n",
        "rango = range(0, 51, 2)\n",
        "\n",
        "for num in rango:\n",
        "    print(num)"
      ],
      "metadata": {
        "id": "zaIkJwDwsgBF"
      },
      "execution_count": null,
      "outputs": []
    },
    {
      "cell_type": "code",
      "source": [
        "#2,3,4\n",
        "medios = [\"cheques\", \"bonos\", \"acciones\", 1000, \"transferencia\", 1.22, True]\n",
        "lista_vacia = []\n",
        "print(medios[1][2])\n",
        "#print(lista[3][2])\n",
        "medios.append(lista_vacia)\n",
        "print(medios)"
      ],
      "metadata": {
        "id": "Upq7t7rCvzNY"
      },
      "execution_count": null,
      "outputs": []
    },
    {
      "cell_type": "code",
      "source": [
        "#5\n",
        "for n in medios:\n",
        "  if type(n) ==str:\n",
        "    print(n)\n",
        "  elif type(n) == int:\n",
        "    print(int(n))\n",
        "  else:\n",
        "    print(\"Es otro tipo\")"
      ],
      "metadata": {
        "id": "4gp0DPZN0pcp"
      },
      "execution_count": null,
      "outputs": []
    },
    {
      "cell_type": "markdown",
      "source": [
        "Dado una lista de numeros enteros vamos a crear dos diccionarios donde vamos guardando por separado los numeros pares e impares. Vamos a imprimir el maximo, el min y el promedio de la lista mas trade. vamos a tener en cuenta el 0 y el 1 en caso que aparezcan en las listas"
      ],
      "metadata": {
        "id": "XYpmWbdhYWHo"
      }
    },
    {
      "cell_type": "code",
      "source": [
        "lista = [1,2,3,4,5,1,6,3,24,342,645,0]\n",
        "numeros = {'pares': [], 'imapres': []}\n",
        "\n",
        "for n in lista:\n",
        "  if n % 2 == 0:\n",
        "    numeros['pares'].append(n)\n",
        "  else:\n",
        "    numeros['imapres'].append(n)\n",
        "print(lista,\"\\n\",numeros)"
      ],
      "metadata": {
        "id": "qefawadzYXeZ"
      },
      "execution_count": null,
      "outputs": []
    },
    {
      "cell_type": "markdown",
      "source": [
        ""
      ],
      "metadata": {
        "id": "8iogy4mnX5PS"
      }
    },
    {
      "cell_type": "markdown",
      "metadata": {
        "id": "iKgk6hFmXgOn"
      },
      "source": [
        "### Ejercicios: \n",
        "\n",
        "1- Escribir una función que reciba una lista con números y devuelva la suma de todos los pares\n",
        "\n",
        "2- Escribir una función que tome una lista con distintos elementos (de cualquier tipo) y devuelva una lista sólo con los últimos tres números que aparecen."
      ]
    },
    {
      "cell_type": "code",
      "source": [
        "#1\n",
        "def sumaPares (lista):\n",
        "  pares = 0\n",
        "  for n in lista:\n",
        "    if n % 2 == 0:\n",
        "      pares = pares + n\n",
        "  return pares\n",
        "print(sumaPares(lista))\n",
        "print(lista[-2])"
      ],
      "metadata": {
        "id": "Ft6DTNGE3PM_"
      },
      "execution_count": null,
      "outputs": []
    },
    {
      "cell_type": "code",
      "source": [
        "def ultimosTres (lista):\n",
        "  ultimos = [lista[-3],lista[-2],lista[-1]]\n",
        "  return ultimos\n",
        "print(*ultimosTres(lista), sep = ' ') #operador * se utiliza para descomprimir objetos"
      ],
      "metadata": {
        "id": "fWvB--un7XIx"
      },
      "execution_count": null,
      "outputs": []
    }
  ]
}