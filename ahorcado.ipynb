{
  "nbformat": 4,
  "nbformat_minor": 0,
  "metadata": {
    "colab": {
      "name": "Untitled3.ipynb",
      "private_outputs": true,
      "provenance": [],
      "authorship_tag": "ABX9TyO2sedXJywsfsVZWruR9P/r",
      "include_colab_link": true
    },
    "kernelspec": {
      "name": "python3",
      "display_name": "Python 3"
    },
    "language_info": {
      "name": "python"
    }
  },
  "cells": [
    {
      "cell_type": "markdown",
      "metadata": {
        "id": "view-in-github",
        "colab_type": "text"
      },
      "source": [
        "<a href=\"https://colab.research.google.com/github/MatiasManchino/curso_python2022/blob/main/ahorcado.ipynb\" target=\"_parent\"><img src=\"https://colab.research.google.com/assets/colab-badge.svg\" alt=\"Open In Colab\"/></a>"
      ]
    },
    {
      "cell_type": "markdown",
      "source": [
        "**Los eventos que van sucediendo en el juego son los siguientes:**\n",
        "\n",
        "\n",
        "\n"
      ],
      "metadata": {
        "id": "sSEGtnysHaOR"
      }
    },
    {
      "cell_type": "markdown",
      "source": [
        "1. Comienza el juego y PC piensa o elije una palabra secreta.\n",
        "2. PC dibuja la horca.\n",
        "3. PC dibuja tantas líneas como letras tiene la palabra secreta.\n",
        "4. Jugador dice una letra.\n",
        "5. PC comprueba la letra.\n",
        "6. Si la letra está en la palabra, PC escribe la letra sobre las líneas correspondientes.\n",
        "7. Si la letra no está en la palabra, PC la escribe como letra utilizada y dibuja una parte del ahorcado en la horca.\n",
        "8. Si se ha completado la palabra, el juego termina y Jugador gana.\n",
        "9. Si se ha completado el dibujo del ahorcado, el juego termina y Jugador pierde.\n",
        "10. Si no se han completado ni el dibujo ni la palabra se vuelve al paso 4."
      ],
      "metadata": {
        "id": "HYvtnpN4HflA"
      }
    },
    {
      "cell_type": "code",
      "source": [
        "from random import choice\n",
        "import re \n",
        "def palabraSecreta ():\n",
        "  li = [\"tomo\", \"largo\", \"frasco\", \"lucero\", \"disco\", \"control\", \"enchufe\",\n",
        "     \"arbol\", \"plato\", \"comida\", \"musica\", \"ropa\", \"volumen\", \"pierna\",\n",
        "     \"balde\", \"avion\", \"lavado\", \"dijiste\", \"pared\", \"piano\", \"solapa\"]\n",
        "  return choice(li)\n",
        "guion_bajo = '_'\n",
        "\n",
        "imgenes = ['''\n",
        "    +---+\n",
        "    |   |\n",
        "        |\n",
        "        |\n",
        "        |\n",
        "        |\n",
        "  =========''', '''\n",
        "    +---+\n",
        "    |   |\n",
        "    O   |\n",
        "        |\n",
        "        |\n",
        "        |\n",
        "   =========''', '''\n",
        "    +---+\n",
        "    |   |\n",
        "    O   |\n",
        "    |   |\n",
        "        |\n",
        "        |\n",
        "   =========''', '''\n",
        "    +---+\n",
        "    |   |\n",
        "    O   |\n",
        "   /|   |\n",
        "        |\n",
        "        |\n",
        "   =========''', '''\n",
        "    +---+\n",
        "    |   |\n",
        "    O   |\n",
        "   /|\\  |\n",
        "        |\n",
        "        |\n",
        "   =========''', '''\n",
        "    +---+\n",
        "    |   |\n",
        "    O   |\n",
        "   /|\\  |\n",
        "   /    |\n",
        "        |\n",
        "   =========''', '''\n",
        "    +---+\n",
        "    |   |\n",
        "    O   |\n",
        "   /|\\  |\n",
        "   / \\  |\n",
        "        |\n",
        "   =========''']\n",
        "print(imgenes[6])"
      ],
      "metadata": {
        "id": "mHApMKuOLIh8"
      },
      "execution_count": null,
      "outputs": []
    },
    {
      "cell_type": "code",
      "execution_count": null,
      "metadata": {
        "id": "QmiqCbnTHXFe"
      },
      "outputs": [],
      "source": [
        "#PASO 1\n",
        "#print(lista())\n",
        "\n",
        "class Begin:\n",
        "\n",
        "    def __init__(self, horca = '0'):\n",
        "\n",
        "        self.horca = imgenes[0]\n",
        "        self.secret = palabraSecreta()\n",
        "        self.lista = [x for x in ['_ ' * len(self.secret)]] \n",
        "    \n",
        "    def estadoInicial(self):\n",
        "       \n",
        "       return self.horca, self.lista\n",
        "        \n",
        "    def buscar(self, letra=''):\n",
        "      return [pos for pos, char in enumerate(self.secret) if char == letra]\n",
        "\n",
        "    def agregar(self, letra, posiciones, listaCaracteres):\n",
        "\n",
        "      for i in range(len(posiciones)):\n",
        "         listaCaracteres[posiciones[i]] = letra  \n",
        "\n",
        "      return listaCaracteres\n",
        "    \n",
        "    def gano(self, imagen, actual):\n",
        "      if imagen == 5:\n",
        "         print('\\n\\n                       Estas muerto...\\n\\n\\n\\n')\n",
        "         return False\n",
        "      elif actual == 0:\n",
        "         print('\\n\\n                       GANASTE!!!\\n\\n') \n",
        "         return False\n",
        "      else:\n",
        "        return True \n",
        "      return False"
      ]
    },
    {
      "cell_type": "code",
      "source": [
        "#instanciar el objeto\n",
        "juego = Begin()\n",
        "imagen = 0\n",
        "gane = False\n",
        "\n",
        "print(juego.estadoInicial()[imagen]) \n",
        "#Imprime la imagen inicial del ahorcado\n",
        "\n",
        "listaCaracteres = juego.estadoInicial()[1][0].split()\n",
        "\n",
        "print(' '.join(listaCaracteres))\n",
        "#Imprime la cantidad de caracteres de la palabra\n",
        "\n",
        "\n",
        "listaLetras = [] #Prepara para guardar todas las letras que se usan\n",
        "\n",
        "print(juego.secret)"
      ],
      "metadata": {
        "id": "agwgQSwiij-a"
      },
      "execution_count": null,
      "outputs": []
    },
    {
      "cell_type": "code",
      "source": [
        "print('Elige una letra por favor: ')\n",
        "letra = input()\n",
        "while len(letra) != 1 or letra.isalpha() != True: \n",
        "      print ('Solo un caracter y letras por favor, prueba nuevamente')\n",
        "      letra = input()\n",
        "    #Valida si el ingreso por teclado es correcto\n",
        "listaLetras.append(letra)\n",
        "print('Hasta ahora usaste: ', ' '.join(listaLetras))\n",
        "actual = juego.agregar(letra, juego.buscar(letra), listaCaracteres)\n",
        "\n",
        "while juego.gano(imagen, actual.count('_')) == True:\n",
        "    print('Elige una letra por favor: ')\n",
        "    letra = input()\n",
        "    while len(letra) != 1 or letra.isalpha() != True: \n",
        "      print ('Solo un caracter y letras por favor, prueba nuevamente')\n",
        "      letra = input()\n",
        "    #Valida si el ingreso por teclado es correcto\n",
        "\n",
        "    #juego.buscar(letra) #Es valida \n",
        "\n",
        "    if juego.buscar(letra) == []:\n",
        "        imagen = imagen + 1\n",
        "        actualizar = juego.horca = imgenes[imagen]\n",
        "        print(actualizar)\n",
        "    else:\n",
        "        actual = juego.agregar(letra, juego.buscar(letra), listaCaracteres)\n",
        "        listaCaracteres = actual\n",
        "        print(' '.join(actual))\n",
        "\n",
        "    listaLetras.append(letra)\n",
        "    print('Hasta ahora usaste: ', ' '.join(listaLetras))\n",
        "\n",
        "\n",
        "#if imagen == 5:\n",
        "#   print('\\n\\n                       Estas muerto...\\n\\n\\n\\n')\n",
        "#elif actual.count('_') == 0:\n",
        "#   print('\\n\\n                       GANASTE!!!\\n\\n')"
      ],
      "metadata": {
        "id": "LUKnzExxzFK5"
      },
      "execution_count": null,
      "outputs": []
    }
  ]
}