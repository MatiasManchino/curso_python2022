{
  "nbformat": 4,
  "nbformat_minor": 0,
  "metadata": {
    "colab": {
      "name": "Untitled3.ipynb",
      "private_outputs": true,
      "provenance": [],
      "authorship_tag": "ABX9TyP7zC/6sFJXbmFx3UJpzfMT",
      "include_colab_link": true
    },
    "kernelspec": {
      "name": "python3",
      "display_name": "Python 3"
    },
    "language_info": {
      "name": "python"
    }
  },
  "cells": [
    {
      "cell_type": "markdown",
      "metadata": {
        "id": "view-in-github",
        "colab_type": "text"
      },
      "source": [
        "<a href=\"https://colab.research.google.com/github/MatiasManchino/curso_python2022/blob/main/ahorcado.ipynb\" target=\"_parent\"><img src=\"https://colab.research.google.com/assets/colab-badge.svg\" alt=\"Open In Colab\"/></a>"
      ]
    },
    {
      "cell_type": "markdown",
      "source": [
        "**Los eventos que van sucediendo en el juego son los siguientes:**\n",
        "\n",
        "\n",
        "\n"
      ],
      "metadata": {
        "id": "sSEGtnysHaOR"
      }
    },
    {
      "cell_type": "markdown",
      "source": [
        "1. Comienza el juego y PC piensa o elije una palabra secreta.\n",
        "2. PC dibuja la horca.\n",
        "3. PC dibuja tantas líneas como letras tiene la palabra secreta.\n",
        "4. Jugador dice una letra.\n",
        "5. PC comprueba la letra.\n",
        "6. Si la letra está en la palabra, PC escribe la letra sobre las líneas correspondientes.\n",
        "7. Si la letra no está en la palabra, PC la escribe como letra utilizada y dibuja una parte del ahorcado en la horca.\n",
        "8. Si se ha completado la palabra, el juego termina y Jugador gana.\n",
        "9. Si se ha completado el dibujo del ahorcado, el juego termina y Jugador pierde.\n",
        "10. Si no se han completado ni el dibujo ni la palabra se vuelve al paso 4."
      ],
      "metadata": {
        "id": "HYvtnpN4HflA"
      }
    },
    {
      "cell_type": "code",
      "source": [
        "from random import choice\n",
        "def palabraSecreta ():\n",
        "  li = [\"tomo\", \"largo\", \"frasco\", \"lucero\", \"disco\", \"control\", \"enchufe\",\n",
        "     \"arbol\", \"plato\", \"comida\", \"musica\", \"ropa\", \"volumen\", \"pierna\",\n",
        "     \"balde\", \"avion\", \"lavado\", \"dijiste\", \"pared\", \"piano\", \"solapa\"]\n",
        "  return choice(li)\n",
        "imgenes = ['''\n",
        "    +---+\n",
        "    |   |\n",
        "        |\n",
        "        |\n",
        "        |\n",
        "        |\n",
        "  =========''', '''\n",
        "    +---+\n",
        "    |   |\n",
        "    O   |\n",
        "        |\n",
        "        |\n",
        "        |\n",
        "   =========''', '''\n",
        "    +---+\n",
        "    |   |\n",
        "    O   |\n",
        "    |   |\n",
        "        |\n",
        "        |\n",
        "   =========''', '''\n",
        "    +---+\n",
        "    |   |\n",
        "    O   |\n",
        "   /|   |\n",
        "        |\n",
        "        |\n",
        "   =========''', '''\n",
        "    +---+\n",
        "    |   |\n",
        "    O   |\n",
        "   /|\\  |\n",
        "        |\n",
        "        |\n",
        "   =========''', '''\n",
        "    +---+\n",
        "    |   |\n",
        "    O   |\n",
        "   /|\\  |\n",
        "   /    |\n",
        "        |\n",
        "   =========''', '''\n",
        "    +---+\n",
        "    |   |\n",
        "    O   |\n",
        "   /|\\  |\n",
        "   / \\  |\n",
        "        |\n",
        "   =========''']\n",
        "print(imgenes[6])"
      ],
      "metadata": {
        "id": "mHApMKuOLIh8"
      },
      "execution_count": null,
      "outputs": []
    },
    {
      "cell_type": "code",
      "execution_count": null,
      "metadata": {
        "id": "QmiqCbnTHXFe"
      },
      "outputs": [],
      "source": [
        "#PASO 1\n",
        "#print(lista())\n",
        "\n",
        "class Begin:\n",
        "\n",
        "    def __init__(self):\n",
        "\n",
        "        self.horca = imgenes[0]\n",
        "        self.secret = palabraSecreta()\n",
        "        self.lista = [' _ ' * len(self.secret)]\n",
        "    \n",
        "    def estadoInicial(self):\n",
        "       \n",
        "       return self.horca, self.lista\n",
        "        \n",
        "    def buscar(self, letra=''):\n",
        "      pass\n",
        "    \n",
        "    def agregar(self):\n",
        "      pass\n",
        "    \n",
        "    def gano(self):\n",
        "      pass  \n",
        "\n",
        "#\n",
        "juego = Begin()\n",
        "\n",
        "print(juego.estadoInicial()[0])\n",
        "\n",
        "listaCaracteres = juego.estadoInicial()[1]\n",
        "\n",
        "print(listaCaracteres)\n",
        "\n",
        "print('Elige una letra por favor: ')\n",
        "letra = str(input())\n",
        "\n",
        "\n",
        "#if letra == '':\n",
        "#  for i in range(self.oculta):\n",
        "#     print(\" _ \", end=\"\")\n"
      ]
    }
  ]
}